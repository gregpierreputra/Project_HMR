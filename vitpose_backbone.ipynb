{
 "cells": [
  {
   "cell_type": "code",
   "execution_count": 1,
   "id": "706c57ad-b65f-44ea-9eaf-977521a55878",
   "metadata": {},
   "outputs": [
    {
     "name": "stderr",
     "output_type": "stream",
     "text": [
      "/home/agi/miniforge3/envs/4D-humans/lib/python3.10/site-packages/tqdm/auto.py:21: TqdmWarning: IProgress not found. Please update jupyter and ipywidgets. See https://ipywidgets.readthedocs.io/en/stable/user_install.html\n",
      "  from .autonotebook import tqdm as notebook_tqdm\n",
      "/home/agi/miniforge3/envs/4D-humans/lib/python3.10/site-packages/timm/models/layers/__init__.py:48: FutureWarning: Importing from timm.models.layers is deprecated, please import via timm.layers\n",
      "  warnings.warn(f\"Importing from {__name__} is deprecated, please import via timm.layers\", FutureWarning)\n"
     ]
    }
   ],
   "source": [
    "import torch\n",
    "from torchinfo import summary\n",
    "from hmr.model.backbone.vitpose import ViTBackbone"
   ]
  },
  {
   "cell_type": "code",
   "execution_count": 2,
   "id": "d34372dd-f95e-4ec0-a67c-d43482fcc1dd",
   "metadata": {},
   "outputs": [],
   "source": [
    "backbone = ViTBackbone(\n",
    "    img_size=(256, 192),\n",
    "    patch_size=16,\n",
    "    embed_dim=384,\n",
    "    depth=12,\n",
    "    num_heads=12,\n",
    "    ratio=1,\n",
    "    use_checkpoint=False,\n",
    "    mlp_ratio=4,\n",
    "    qkv_bias=True,\n",
    "    drop_path_rate=0.1,\n",
    ")\n",
    "backbone.eval()"
   ]
  },
  {
   "cell_type": "code",
   "execution_count": 3,
   "id": "4b6c8039-2bdd-44fc-a10d-d02ca76864fd",
   "metadata": {},
   "outputs": [
    {
     "name": "stderr",
     "output_type": "stream",
     "text": [
      "/tmp/ipykernel_60281/1479132282.py:1: FutureWarning: You are using `torch.load` with `weights_only=False` (the current default value), which uses the default pickle module implicitly. It is possible to construct malicious pickle data which will execute arbitrary code during unpickling (See https://github.com/pytorch/pytorch/blob/main/SECURITY.md#untrusted-models for more details). In a future release, the default value for `weights_only` will be flipped to `True`. This limits the functions that could be executed during unpickling. Arbitrary objects will no longer be allowed to be loaded via this mode unless they are explicitly allowlisted by the user via `torch.serialization.add_safe_globals`. We recommend you start setting `weights_only=True` for any use case where you don't have full control of the loaded file. Please open an issue on GitHub for any issues related to this experimental feature.\n",
      "  backbone_stdict = torch.load(\"./data/vitpose_small_backbone.pth\")\n"
     ]
    },
    {
     "data": {
      "text/plain": [
       "<All keys matched successfully>"
      ]
     },
     "execution_count": 3,
     "metadata": {},
     "output_type": "execute_result"
    }
   ],
   "source": [
    "backbone_stdict = torch.load(\"./data/vitpose_small_backbone.pth\")\n",
    "backbone.load_state_dict(backbone_stdict)"
   ]
  },
  {
   "cell_type": "code",
   "execution_count": 4,
   "id": "613966e5-75f3-4656-9b52-661d436be34e",
   "metadata": {},
   "outputs": [],
   "source": [
    "inp = torch.randn(1, 3, 256, 192)"
   ]
  },
  {
   "cell_type": "code",
   "execution_count": 5,
   "id": "a59cf493-edbc-4861-87f6-9dd807fef6c1",
   "metadata": {},
   "outputs": [
    {
     "data": {
      "text/plain": [
       "torch.Size([1, 384, 16, 12])"
      ]
     },
     "execution_count": 5,
     "metadata": {},
     "output_type": "execute_result"
    }
   ],
   "source": [
    "backbone(inp).shape"
   ]
  },
  {
   "cell_type": "code",
   "execution_count": 6,
   "id": "a3a00ef3-54ce-4a3c-a463-7308d579b912",
   "metadata": {},
   "outputs": [
    {
     "data": {
      "text/plain": [
       "==========================================================================================\n",
       "Layer (type:depth-idx)                   Input Shape               Output Shape\n",
       "==========================================================================================\n",
       "ViTBackbone                              [1, 3, 256, 192]          [1, 384, 16, 12]\n",
       "├─PatchEmbed: 1-1                        [1, 3, 256, 192]          [1, 192, 384]\n",
       "│    └─Conv2d: 2-1                       [1, 3, 256, 192]          [1, 384, 16, 12]\n",
       "├─ModuleList: 1-2                        --                        --\n",
       "│    └─Block: 2-2                        [1, 192, 384]             [1, 192, 384]\n",
       "│    │    └─LayerNorm: 3-1               [1, 192, 384]             [1, 192, 384]\n",
       "│    │    └─Attention: 3-2               [1, 192, 384]             [1, 192, 384]\n",
       "│    │    └─Identity: 3-3                [1, 192, 384]             [1, 192, 384]\n",
       "│    │    └─LayerNorm: 3-4               [1, 192, 384]             [1, 192, 384]\n",
       "│    │    └─Mlp: 3-5                     [1, 192, 384]             [1, 192, 384]\n",
       "│    │    └─Identity: 3-6                [1, 192, 384]             [1, 192, 384]\n",
       "│    └─Block: 2-3                        [1, 192, 384]             [1, 192, 384]\n",
       "│    │    └─LayerNorm: 3-7               [1, 192, 384]             [1, 192, 384]\n",
       "│    │    └─Attention: 3-8               [1, 192, 384]             [1, 192, 384]\n",
       "│    │    └─DropPath: 3-9                [1, 192, 384]             [1, 192, 384]\n",
       "│    │    └─LayerNorm: 3-10              [1, 192, 384]             [1, 192, 384]\n",
       "│    │    └─Mlp: 3-11                    [1, 192, 384]             [1, 192, 384]\n",
       "│    │    └─DropPath: 3-12               [1, 192, 384]             [1, 192, 384]\n",
       "│    └─Block: 2-4                        [1, 192, 384]             [1, 192, 384]\n",
       "│    │    └─LayerNorm: 3-13              [1, 192, 384]             [1, 192, 384]\n",
       "│    │    └─Attention: 3-14              [1, 192, 384]             [1, 192, 384]\n",
       "│    │    └─DropPath: 3-15               [1, 192, 384]             [1, 192, 384]\n",
       "│    │    └─LayerNorm: 3-16              [1, 192, 384]             [1, 192, 384]\n",
       "│    │    └─Mlp: 3-17                    [1, 192, 384]             [1, 192, 384]\n",
       "│    │    └─DropPath: 3-18               [1, 192, 384]             [1, 192, 384]\n",
       "│    └─Block: 2-5                        [1, 192, 384]             [1, 192, 384]\n",
       "│    │    └─LayerNorm: 3-19              [1, 192, 384]             [1, 192, 384]\n",
       "│    │    └─Attention: 3-20              [1, 192, 384]             [1, 192, 384]\n",
       "│    │    └─DropPath: 3-21               [1, 192, 384]             [1, 192, 384]\n",
       "│    │    └─LayerNorm: 3-22              [1, 192, 384]             [1, 192, 384]\n",
       "│    │    └─Mlp: 3-23                    [1, 192, 384]             [1, 192, 384]\n",
       "│    │    └─DropPath: 3-24               [1, 192, 384]             [1, 192, 384]\n",
       "│    └─Block: 2-6                        [1, 192, 384]             [1, 192, 384]\n",
       "│    │    └─LayerNorm: 3-25              [1, 192, 384]             [1, 192, 384]\n",
       "│    │    └─Attention: 3-26              [1, 192, 384]             [1, 192, 384]\n",
       "│    │    └─DropPath: 3-27               [1, 192, 384]             [1, 192, 384]\n",
       "│    │    └─LayerNorm: 3-28              [1, 192, 384]             [1, 192, 384]\n",
       "│    │    └─Mlp: 3-29                    [1, 192, 384]             [1, 192, 384]\n",
       "│    │    └─DropPath: 3-30               [1, 192, 384]             [1, 192, 384]\n",
       "│    └─Block: 2-7                        [1, 192, 384]             [1, 192, 384]\n",
       "│    │    └─LayerNorm: 3-31              [1, 192, 384]             [1, 192, 384]\n",
       "│    │    └─Attention: 3-32              [1, 192, 384]             [1, 192, 384]\n",
       "│    │    └─DropPath: 3-33               [1, 192, 384]             [1, 192, 384]\n",
       "│    │    └─LayerNorm: 3-34              [1, 192, 384]             [1, 192, 384]\n",
       "│    │    └─Mlp: 3-35                    [1, 192, 384]             [1, 192, 384]\n",
       "│    │    └─DropPath: 3-36               [1, 192, 384]             [1, 192, 384]\n",
       "│    └─Block: 2-8                        [1, 192, 384]             [1, 192, 384]\n",
       "│    │    └─LayerNorm: 3-37              [1, 192, 384]             [1, 192, 384]\n",
       "│    │    └─Attention: 3-38              [1, 192, 384]             [1, 192, 384]\n",
       "│    │    └─DropPath: 3-39               [1, 192, 384]             [1, 192, 384]\n",
       "│    │    └─LayerNorm: 3-40              [1, 192, 384]             [1, 192, 384]\n",
       "│    │    └─Mlp: 3-41                    [1, 192, 384]             [1, 192, 384]\n",
       "│    │    └─DropPath: 3-42               [1, 192, 384]             [1, 192, 384]\n",
       "│    └─Block: 2-9                        [1, 192, 384]             [1, 192, 384]\n",
       "│    │    └─LayerNorm: 3-43              [1, 192, 384]             [1, 192, 384]\n",
       "│    │    └─Attention: 3-44              [1, 192, 384]             [1, 192, 384]\n",
       "│    │    └─DropPath: 3-45               [1, 192, 384]             [1, 192, 384]\n",
       "│    │    └─LayerNorm: 3-46              [1, 192, 384]             [1, 192, 384]\n",
       "│    │    └─Mlp: 3-47                    [1, 192, 384]             [1, 192, 384]\n",
       "│    │    └─DropPath: 3-48               [1, 192, 384]             [1, 192, 384]\n",
       "│    └─Block: 2-10                       [1, 192, 384]             [1, 192, 384]\n",
       "│    │    └─LayerNorm: 3-49              [1, 192, 384]             [1, 192, 384]\n",
       "│    │    └─Attention: 3-50              [1, 192, 384]             [1, 192, 384]\n",
       "│    │    └─DropPath: 3-51               [1, 192, 384]             [1, 192, 384]\n",
       "│    │    └─LayerNorm: 3-52              [1, 192, 384]             [1, 192, 384]\n",
       "│    │    └─Mlp: 3-53                    [1, 192, 384]             [1, 192, 384]\n",
       "│    │    └─DropPath: 3-54               [1, 192, 384]             [1, 192, 384]\n",
       "│    └─Block: 2-11                       [1, 192, 384]             [1, 192, 384]\n",
       "│    │    └─LayerNorm: 3-55              [1, 192, 384]             [1, 192, 384]\n",
       "│    │    └─Attention: 3-56              [1, 192, 384]             [1, 192, 384]\n",
       "│    │    └─DropPath: 3-57               [1, 192, 384]             [1, 192, 384]\n",
       "│    │    └─LayerNorm: 3-58              [1, 192, 384]             [1, 192, 384]\n",
       "│    │    └─Mlp: 3-59                    [1, 192, 384]             [1, 192, 384]\n",
       "│    │    └─DropPath: 3-60               [1, 192, 384]             [1, 192, 384]\n",
       "│    └─Block: 2-12                       [1, 192, 384]             [1, 192, 384]\n",
       "│    │    └─LayerNorm: 3-61              [1, 192, 384]             [1, 192, 384]\n",
       "│    │    └─Attention: 3-62              [1, 192, 384]             [1, 192, 384]\n",
       "│    │    └─DropPath: 3-63               [1, 192, 384]             [1, 192, 384]\n",
       "│    │    └─LayerNorm: 3-64              [1, 192, 384]             [1, 192, 384]\n",
       "│    │    └─Mlp: 3-65                    [1, 192, 384]             [1, 192, 384]\n",
       "│    │    └─DropPath: 3-66               [1, 192, 384]             [1, 192, 384]\n",
       "│    └─Block: 2-13                       [1, 192, 384]             [1, 192, 384]\n",
       "│    │    └─LayerNorm: 3-67              [1, 192, 384]             [1, 192, 384]\n",
       "│    │    └─Attention: 3-68              [1, 192, 384]             [1, 192, 384]\n",
       "│    │    └─DropPath: 3-69               [1, 192, 384]             [1, 192, 384]\n",
       "│    │    └─LayerNorm: 3-70              [1, 192, 384]             [1, 192, 384]\n",
       "│    │    └─Mlp: 3-71                    [1, 192, 384]             [1, 192, 384]\n",
       "│    │    └─DropPath: 3-72               [1, 192, 384]             [1, 192, 384]\n",
       "├─LayerNorm: 1-3                         [1, 192, 384]             [1, 192, 384]\n",
       "==========================================================================================\n",
       "Total params: 21,663,744\n",
       "Trainable params: 21,663,744\n",
       "Non-trainable params: 0\n",
       "Total mult-adds (M): 77.99\n",
       "==========================================================================================\n",
       "Input size (MB): 0.59\n",
       "Forward/backward pass size (MB): 79.04\n",
       "Params size (MB): 86.36\n",
       "Estimated Total Size (MB): 165.98\n",
       "=========================================================================================="
      ]
     },
     "execution_count": 6,
     "metadata": {},
     "output_type": "execute_result"
    }
   ],
   "source": [
    "summary(backbone, input_data=inp, col_names=(\"input_size\", \"output_size\"))"
   ]
  }
 ],
 "metadata": {
  "kernelspec": {
   "display_name": "4D-humans",
   "language": "python",
   "name": "4d-humans"
  },
  "language_info": {
   "codemirror_mode": {
    "name": "ipython",
    "version": 3
   },
   "file_extension": ".py",
   "mimetype": "text/x-python",
   "name": "python",
   "nbconvert_exporter": "python",
   "pygments_lexer": "ipython3",
   "version": "3.10.18"
  }
 },
 "nbformat": 4,
 "nbformat_minor": 5
}
